{
 "cells": [
  {
   "cell_type": "markdown",
   "id": "5013d5f0",
   "metadata": {},
   "source": [
    "Nama : M. Iqbal Baskoro\n",
    "# PROJECT 3 : VOICE RECOGNITION\n",
    "## Klasifikasi Maksud Ucapan (Intent Classification)"
   ]
  },
  {
   "cell_type": "markdown",
   "id": "74adb5a0",
   "metadata": {},
   "source": [
    "#### TUJUAN :\n",
    "Membangun model yang dapat mengenali dan\n",
    "mengklasifikasikan maksud (intent) dari sebuah rekaman suara."
   ]
  },
  {
   "cell_type": "markdown",
   "id": "107553e4",
   "metadata": {},
   "source": [
    "#### DATASET:\n",
    "https://huggingface.co/datasets/PolyAI/minds14"
   ]
  },
  {
   "cell_type": "markdown",
   "id": "38fc2096",
   "metadata": {},
   "source": [
    "#### <Strong>Data Field</Strong>\n",
    "\n",
    "| Nama Kolom | Tipe Data | Keterangan |\n",
    "|:----------:|:---------:|:----------:|\n",
    "|`path `| String | Path to the audio file |\n",
    "|`audio `| Dict | Audio object including loaded audio array, sampling rate and path ot audio |\n",
    "|`transcription `| String | Transcription of the audio file |\n",
    "|`english_transcription `| String | English transcription of the audio file |\n",
    "|`intent_class `| Integer | Class id of intent |\n",
    "|`lang_id `| Integer | Id of language |"
   ]
  },
  {
   "cell_type": "markdown",
   "id": "0e9b5b4e",
   "metadata": {},
   "source": [
    "#### <strong>Penggunaan Bahasa Pada Dataset</strong>\n",
    "-`all`"
   ]
  },
  {
   "cell_type": "markdown",
   "id": "7feed420",
   "metadata": {},
   "source": [
    "#### <strong>Pengolahan Dataset</strong>\n",
    "-`Pembagian Dataset` = <strong>Training</strong>(70%), <strong>Validasi</strong>(15%), dan <strong>Test</strong>(15%) <br>\n",
    "-`Audio Preprocessing` = <strong>Resampling</strong>, Audio diseragamkan ke sampling rate 16000 Hz <br>\n"
   ]
  },
  {
   "cell_type": "markdown",
   "id": "adf0a2f2",
   "metadata": {},
   "source": [
    "#### MODEL :\n",
    "Training model menggunakan ` Bidirectional LSTM` <br>\n",
    "Feature Extraction `MFCC`"
   ]
  },
  {
   "cell_type": "code",
   "execution_count": null,
   "id": "e43125f1",
   "metadata": {},
   "outputs": [
    {
     "ename": "",
     "evalue": "",
     "output_type": "error",
     "traceback": [
      "\u001b[1;31mThe kernel failed to start as the Python Environment 'Python 2.7.18' is no longer available. Consider selecting another kernel or refreshing the list of Python Environments."
     ]
    }
   ],
   "source": [
    "from datasets import load_dataset\n",
    "\n",
    "print(\"Memuat dataset MINDS-14...\")\n",
    "dataset = load_dataset(\"PolyAI/minds14\", name=\"all\", split=\"train\", trust_remote_code=True)\n",
    "print(\"\\nDataset berhasil dimuat:\")\n",
    "print(dataset)"
   ]
  },
  {
   "cell_type": "code",
   "execution_count": null,
   "id": "eeb5acf4",
   "metadata": {},
   "outputs": [],
   "source": [
    "import pandas as pd\n",
    "from IPython.display import display\n",
    "\n",
    "df = dataset.to_pandas()\n",
    "csv_path = \"../data/minds14.csv\"\n",
    "df.to_csv(csv_path, index=False)\n",
    "\n",
    "print(\"Data sudah disimpan ke ../data/minds14.csv\")"
   ]
  },
  {
   "cell_type": "code",
   "execution_count": null,
   "id": "49acfef3",
   "metadata": {},
   "outputs": [],
   "source": [
    "# Menampilkan informasi dasar tentang DataFrame\n",
    "df.info()"
   ]
  },
  {
   "cell_type": "markdown",
   "id": "80dfa699",
   "metadata": {},
   "source": [
    "Pengolahan Dataset <br>\n",
    "-Pembagian Dataset = Training (70%), Validation (15%), dan Test (15%) <br>\n",
    "-Audio Preprocessing = Resampling, Audio diseragamkan ke sampling rate 16000 Hz agar sesuai dengan model Wav2Vec2. <br>\n",
    "-Ekstraksi Fitur = Model Wav2Vec2 akan mengekstraksi fitur audio secara internal dari data gelombang mentah. <br>\n",
    "-Normalisasi = Fitur audio akan dinormalisasi secara internal oleh feature extractor model."
   ]
  },
  {
   "cell_type": "code",
   "execution_count": null,
   "id": "88bddaac",
   "metadata": {},
   "outputs": [],
   "source": [
    "df.head()"
   ]
  },
  {
   "cell_type": "code",
   "execution_count": null,
   "id": "c8549c96",
   "metadata": {},
   "outputs": [],
   "source": [
    "from IPython.display import Audio, display\n",
    "\n",
    "sample = dataset[0]\n",
    "print(\"\\nStruktur satu sampel data:\")\n",
    "for key, value in sample.items():\n",
    "    print(f\"  - {key}: {value}\")\n",
    "\n",
    "intent_names = dataset.features['intent_class'].names\n",
    "num_intents = len(intent_names)\n",
    "print(f\"\\nDaftar Intent ({num_intents} kelas):\")\n",
    "print(intent_names)\n",
    "\n",
    "print(\"\\nContoh sample transkrip, intent, dan audio\")\n",
    "print(f\"Transkripsi : '{sample['english_transcription']}'\")\n",
    "print(f\"Intent : {intent_names[sample['intent_class']]}\")\n",
    "\n",
    "display(Audio(sample['audio']['array'], rate=sample['audio']['sampling_rate']))"
   ]
  },
  {
   "cell_type": "code",
   "execution_count": null,
   "id": "93c5760b",
   "metadata": {},
   "outputs": [],
   "source": [
    "import matplotlib.pyplot as plt\n",
    "import seaborn as sns\n",
    "import librosa\n",
    "import librosa.display\n",
    "import pandas as pd\n",
    "\n",
    "sns.set_theme(style=\"whitegrid\")\n",
    "\n",
    "intent_labels = [intent_names[i] for i in dataset['intent_class']]\n",
    "value_counts = pd.Series(intent_labels).value_counts()\n",
    "\n",
    "plt.figure(figsize=(12, 8))\n",
    "ax = sns.countplot(y=intent_labels, hue=intent_labels, order=value_counts.index, palette=\"viridis\")\n",
    "ax.bar_label(ax.containers[0], fmt=' %d', label_type='edge', padding=5)\n",
    "\n",
    "plt.title('Distribusi Kelas Intent dalam Dataset', fontsize=16)\n",
    "plt.xlabel('Jumlah Sampel', fontsize=12)\n",
    "plt.ylabel('Intent', fontsize=12)\n",
    "plt.xlim(0, value_counts.max() * 1.1)\n",
    "plt.tight_layout()\n",
    "plt.show()"
   ]
  },
  {
   "cell_type": "code",
   "execution_count": null,
   "id": "08501fc0",
   "metadata": {},
   "outputs": [],
   "source": [
    "sns.set_theme(style=\"darkgrid\")\n",
    "\n",
    "y = sample['audio']['array']\n",
    "sr = sample['audio']['sampling_rate']\n",
    "\n",
    "plt.figure(figsize=(12, 4))\n",
    "librosa.display.waveshow(y, sr=sr, color='lightblue')\n",
    "plt.title(f'Waveform Audio Sampel\\nIntent: {intent_names[sample[\"intent_class\"]]}', fontsize=14)\n",
    "plt.xlabel('Waktu (detik)', fontsize=12)\n",
    "plt.ylabel('Amplitudo', fontsize=12)\n",
    "plt.tight_layout()\n",
    "plt.show()"
   ]
  },
  {
   "cell_type": "code",
   "execution_count": null,
   "id": "05302e2a",
   "metadata": {},
   "outputs": [],
   "source": [
    "from transformers import Wav2Vec2FeatureExtractor\n",
    "\n",
    "model_checkpoint = \"facebook/wav2vec2-base-960h\"\n",
    "feature_extractor = Wav2Vec2FeatureExtractor.from_pretrained(model_checkpoint)\n",
    "\n",
    "intent_names = dataset.features['intent_class'].names\n",
    "label2id, id2label = dict(), dict()\n",
    "for i, label in enumerate(intent_names):\n",
    "    label2id[label] = str(i)\n",
    "    id2label[str(i)] = label\n",
    "num_labels = len(id2label)\n",
    "\n",
    "print(\"Nama-nama Intent :\", intent_names)\n",
    "print(\"\\nJumlah Label :\", num_labels)"
   ]
  },
  {
   "cell_type": "code",
   "execution_count": null,
   "id": "c84d6b98",
   "metadata": {},
   "outputs": [],
   "source": [
    "def preprocess_function(examples):\n",
    "    audio_arrays = [x[\"array\"] for x in examples[\"audio\"]]\n",
    "    inputs = feature_extractor(\n",
    "        audio_arrays, \n",
    "        sampling_rate=feature_extractor.sampling_rate, \n",
    "        max_length=int(feature_extractor.sampling_rate * 5.0), # padding audio ke 5 detik\n",
    "        truncation=True,\n",
    "    )\n",
    "    # Ganti nama kolom 'intent_class' menjadi 'label'\n",
    "    inputs[\"label\"] = examples[\"intent_class\"]\n",
    "    return inputs"
   ]
  },
  {
   "cell_type": "code",
   "execution_count": null,
   "id": "f8cbca9e",
   "metadata": {},
   "outputs": [],
   "source": [
    "from datasets import Audio\n",
    "\n",
    "dataset = dataset.cast_column(\"audio\", Audio(sampling_rate=16000))\n",
    "\n",
    "# Membagi dataset 70% train, 15% validation, 15% test\n",
    "train_test_valid = dataset.train_test_split(test_size=0.3, seed=42)\n",
    "test_valid = train_test_valid['test'].train_test_split(test_size=0.5, seed=42)\n",
    "\n",
    "train_dataset = train_test_valid['train']\n",
    "val_dataset = test_valid['train']\n",
    "test_dataset = test_valid['test']\n",
    "\n",
    "encoded_train_dataset = train_dataset.map(preprocess_function, remove_columns=dataset.column_names, batched=True)\n",
    "encoded_val_dataset = val_dataset.map(preprocess_function, remove_columns=dataset.column_names, batched=True)\n",
    "encoded_test_dataset = test_dataset.map(preprocess_function, remove_columns=dataset.column_names, batched=True)\n",
    "\n",
    "print(f\"Ukuran data train : {len(train_dataset)}\")\n",
    "print(f\"Ukuran data validasi : {len(val_dataset)}\")\n",
    "print(f\"Ukuran data test : {len(test_dataset)}\")"
   ]
  },
  {
   "cell_type": "code",
   "execution_count": null,
   "id": "86960640",
   "metadata": {},
   "outputs": [],
   "source": [
    "from transformers import Wav2Vec2ForSequenceClassification\n",
    "\n",
    "model = Wav2Vec2ForSequenceClassification.from_pretrained(\n",
    "    model_checkpoint,\n",
    "    num_labels=num_labels,\n",
    "    label2id=label2id,\n",
    "    id2label=id2label,\n",
    ")\n",
    "\n",
    "# Freeze layer Wav2Vec2.\n",
    "for param in model.wav2vec2.parameters():\n",
    "    param.requires_grad = False\n",
    "print(\"Lapisan dasar berhasil dibekukan.\")\n",
    "\n",
    "trainable_params = 0\n",
    "all_param = 0\n",
    "for name, param in model.named_parameters():\n",
    "    all_param += param.numel()\n",
    "    if param.requires_grad:\n",
    "        trainable_params += param.numel()\n",
    "        print(f\"  - {name}\")\n",
    "print(\n",
    "    f\"\\nTotal Parameter : {all_param}\"\n",
    "    f\"\\nParameter Training : {trainable_params}\"\n",
    "    f\"\\nPersentase yang dilatih : {100 * trainable_params / all_param:.2f}%\"\n",
    ")"
   ]
  },
  {
   "cell_type": "code",
   "execution_count": null,
   "id": "9c0f21b6",
   "metadata": {},
   "outputs": [],
   "source": [
    "import numpy as np\n",
    "import evaluate\n",
    "from transformers import TrainingArguments, Trainer\n",
    "\n",
    "accuracy_metric = evaluate.load(\"accuracy\")\n",
    "\n",
    "def compute_metrics(eval_pred):\n",
    "    predictions = np.argmax(eval_pred.predictions, axis=1)\n",
    "    return accuracy_metric.compute(predictions=predictions, references=eval_pred.label_ids)\n",
    "\n",
    "training_args = TrainingArguments(\n",
    "    output_dir=\"./wav2vec2-minds14-intent-classification\",\n",
    "    per_device_train_batch_size=8,\n",
    "    per_device_eval_batch_size=8,\n",
    "    gradient_accumulation_steps=2,\n",
    "    eval_strategy=\"epoch\",\n",
    "    num_train_epochs=5,\n",
    "    fp16=True,\n",
    "    save_strategy=\"epoch\",\n",
    "    logging_steps=10,\n",
    "    learning_rate=0.001,\n",
    "    save_total_limit=2,\n",
    "    load_best_model_at_end=True,\n",
    "    metric_for_best_model=\"accuracy\",\n",
    "    report_to=\"none\"\n",
    ")"
   ]
  },
  {
   "cell_type": "code",
   "execution_count": null,
   "id": "6b238553",
   "metadata": {},
   "outputs": [],
   "source": [
    "trainer = Trainer(\n",
    "    model=model,\n",
    "    args=training_args,\n",
    "    train_dataset=encoded_train_dataset,\n",
    "    eval_dataset=encoded_val_dataset,\n",
    "    tokenizer=feature_extractor,\n",
    "    compute_metrics=compute_metrics,\n",
    ")\n",
    "\n",
    "print(\"\\nMulai Training\")\n",
    "trainer.train()\n",
    "print(\"\\nTraining Selesai\")"
   ]
  },
  {
   "cell_type": "code",
   "execution_count": null,
   "id": "c42455a0",
   "metadata": {},
   "outputs": [],
   "source": [
    "print(\"\\nEvaluasi model pada test set...\")\n",
    "test_results = trainer.evaluate(encoded_test_dataset)\n",
    "print(test_results)"
   ]
  }
 ],
 "metadata": {
  "kernelspec": {
   "display_name": "Python 3",
   "language": "python",
   "name": "python3"
  },
  "language_info": {
   "codemirror_mode": {
    "name": "ipython",
    "version": 3
   },
   "file_extension": ".py",
   "mimetype": "text/x-python",
   "name": "python",
   "nbconvert_exporter": "python",
   "pygments_lexer": "ipython3",
   "version": "2.7.18"
  }
 },
 "nbformat": 4,
 "nbformat_minor": 5
}
