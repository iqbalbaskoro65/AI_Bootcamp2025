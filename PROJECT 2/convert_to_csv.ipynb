{
 "cells": [
  {
   "cell_type": "markdown",
   "id": "53d470b3",
   "metadata": {},
   "source": [
    "Import Library"
   ]
  },
  {
   "cell_type": "code",
   "execution_count": 1,
   "id": "c083623f",
   "metadata": {},
   "outputs": [],
   "source": [
    "import os\n",
    "import json\n",
    "import pandas as pd"
   ]
  },
  {
   "cell_type": "markdown",
   "id": "be9d5d71",
   "metadata": {},
   "source": [
    "Extract dan Convert file JSON to CSV (train)"
   ]
  },
  {
   "cell_type": "code",
   "execution_count": null,
   "id": "9f59379f",
   "metadata": {},
   "outputs": [
    {
     "name": "stdout",
     "output_type": "stream",
     "text": [
      "Data disimpan ke liputan6_data/canonical/train_data.csv\n"
     ]
    }
   ],
   "source": [
    "def read_file_json_train(directory_train, output_train_csv):\n",
    "    data_list_train = []\n",
    "    for filename in os.listdir(directory_train):\n",
    "        if filename.endswith('.json'):\n",
    "            filepath_train = os.path.join(directory_train, filename)\n",
    "            with open(filepath_train, 'r', encoding='utf-8') as f:\n",
    "                data_train = json.load(f) # baca .json data\n",
    "                data_list_train.append(data_train)\n",
    "    df_train = pd.DataFrame(data_list_train)\n",
    "    df_train.to_csv(output_train_csv, index=False)\n",
    "    print(f'Data disimpan ke {output_train_csv}')\n",
    "\n",
    "directory_train = \"../data/liputan6_data/canonical/train\"\n",
    "output_train_csv = \"liputan6_data/canonical/train_data.csv\"\n",
    "read_file_json_train(directory_train, output_train_csv)"
   ]
  },
  {
   "cell_type": "code",
   "execution_count": 3,
   "id": "3c11a002",
   "metadata": {},
   "outputs": [
    {
     "data": {
      "text/html": [
       "<div>\n",
       "<style scoped>\n",
       "    .dataframe tbody tr th:only-of-type {\n",
       "        vertical-align: middle;\n",
       "    }\n",
       "\n",
       "    .dataframe tbody tr th {\n",
       "        vertical-align: top;\n",
       "    }\n",
       "\n",
       "    .dataframe thead th {\n",
       "        text-align: right;\n",
       "    }\n",
       "</style>\n",
       "<table border=\"1\" class=\"dataframe\">\n",
       "  <thead>\n",
       "    <tr style=\"text-align: right;\">\n",
       "      <th></th>\n",
       "      <th>id</th>\n",
       "      <th>url</th>\n",
       "      <th>clean_article</th>\n",
       "      <th>clean_summary</th>\n",
       "      <th>extractive_summary</th>\n",
       "    </tr>\n",
       "  </thead>\n",
       "  <tbody>\n",
       "    <tr>\n",
       "      <th>0</th>\n",
       "      <td>100000</td>\n",
       "      <td>https://www.liputan6.com/news/read/100000/yudh...</td>\n",
       "      <td>[['Liputan6', '.', 'com', ',', 'Jakarta', ':',...</td>\n",
       "      <td>[['Menurut', 'Presiden', 'Susilo', 'Bambang', ...</td>\n",
       "      <td>[0, 1]</td>\n",
       "    </tr>\n",
       "    <tr>\n",
       "      <th>1</th>\n",
       "      <td>100002</td>\n",
       "      <td>https://www.liputan6.com/news/read/100002/jepa...</td>\n",
       "      <td>[['Liputan6', '.', 'com', ',', 'Jakarta', ':',...</td>\n",
       "      <td>[['Pada', 'masa', 'silam', 'Jepang', 'terlalu'...</td>\n",
       "      <td>[2, 3]</td>\n",
       "    </tr>\n",
       "    <tr>\n",
       "      <th>2</th>\n",
       "      <td>100003</td>\n",
       "      <td>https://www.liputan6.com/news/read/100003/pulu...</td>\n",
       "      <td>[['Liputan6', '.', 'com', ',', 'Kutai', ':', '...</td>\n",
       "      <td>[['Puluhan', 'hektare', 'areal', 'persawahan',...</td>\n",
       "      <td>[1, 5]</td>\n",
       "    </tr>\n",
       "    <tr>\n",
       "      <th>3</th>\n",
       "      <td>100004</td>\n",
       "      <td>https://www.liputan6.com/news/read/100004/pres...</td>\n",
       "      <td>[['Liputan6', '.', 'com', ',', 'Jakarta', ':',...</td>\n",
       "      <td>[['Sekjen', 'PBB', 'Kofi', 'Annan', 'memuji', ...</td>\n",
       "      <td>[2, 5]</td>\n",
       "    </tr>\n",
       "    <tr>\n",
       "      <th>4</th>\n",
       "      <td>100005</td>\n",
       "      <td>https://www.liputan6.com/news/read/100005/warg...</td>\n",
       "      <td>[['Liputan6', '.', 'com', ',', 'Solok', ':', '...</td>\n",
       "      <td>[['Untuk', 'mempercepat', 'pelaksanaan', 'bela...</td>\n",
       "      <td>[0, 2]</td>\n",
       "    </tr>\n",
       "  </tbody>\n",
       "</table>\n",
       "</div>"
      ],
      "text/plain": [
       "       id                                                url  \\\n",
       "0  100000  https://www.liputan6.com/news/read/100000/yudh...   \n",
       "1  100002  https://www.liputan6.com/news/read/100002/jepa...   \n",
       "2  100003  https://www.liputan6.com/news/read/100003/pulu...   \n",
       "3  100004  https://www.liputan6.com/news/read/100004/pres...   \n",
       "4  100005  https://www.liputan6.com/news/read/100005/warg...   \n",
       "\n",
       "                                       clean_article  \\\n",
       "0  [['Liputan6', '.', 'com', ',', 'Jakarta', ':',...   \n",
       "1  [['Liputan6', '.', 'com', ',', 'Jakarta', ':',...   \n",
       "2  [['Liputan6', '.', 'com', ',', 'Kutai', ':', '...   \n",
       "3  [['Liputan6', '.', 'com', ',', 'Jakarta', ':',...   \n",
       "4  [['Liputan6', '.', 'com', ',', 'Solok', ':', '...   \n",
       "\n",
       "                                       clean_summary extractive_summary  \n",
       "0  [['Menurut', 'Presiden', 'Susilo', 'Bambang', ...             [0, 1]  \n",
       "1  [['Pada', 'masa', 'silam', 'Jepang', 'terlalu'...             [2, 3]  \n",
       "2  [['Puluhan', 'hektare', 'areal', 'persawahan',...             [1, 5]  \n",
       "3  [['Sekjen', 'PBB', 'Kofi', 'Annan', 'memuji', ...             [2, 5]  \n",
       "4  [['Untuk', 'mempercepat', 'pelaksanaan', 'bela...             [0, 2]  "
      ]
     },
     "execution_count": 3,
     "metadata": {},
     "output_type": "execute_result"
    }
   ],
   "source": [
    "df_train = pd.read_csv('liputan6_data/canonical/train_data.csv')\n",
    "df_train.head()"
   ]
  },
  {
   "cell_type": "markdown",
   "id": "4721b616",
   "metadata": {},
   "source": [
    "Extract dan Convert file JSON to CSV (dev)"
   ]
  },
  {
   "cell_type": "code",
   "execution_count": null,
   "id": "aef84fbc",
   "metadata": {},
   "outputs": [
    {
     "name": "stdout",
     "output_type": "stream",
     "text": [
      "Data disimpan ke liputan6_data/canonical/dev_data.csv\n"
     ]
    }
   ],
   "source": [
    "def read_file_json_dev(directory_dev, output_dev_csv):\n",
    "    data_list_dev = []\n",
    "    for filename in os.listdir(directory_dev):\n",
    "        if filename.endswith('.json'):\n",
    "            filepath_dev = os.path.join(directory_dev, filename)\n",
    "            with open(filepath_dev, 'r', encoding='utf-8') as f:\n",
    "                data_dev = json.load(f) # baca .json data\n",
    "                data_list_dev.append(data_dev)\n",
    "    df_dev = pd.DataFrame(data_list_dev)\n",
    "    df_dev.to_csv(output_dev_csv, index=False)\n",
    "    print(f'Data disimpan ke {output_dev_csv}')\n",
    "\n",
    "directory_dev = \"../data/liputan6_data/canonical/dev\"\n",
    "output_dev_csv = \"liputan6_data/canonical/dev_data.csv\"\n",
    "read_file_json_dev(directory_dev, output_dev_csv)"
   ]
  },
  {
   "cell_type": "code",
   "execution_count": 5,
   "id": "f462fc45",
   "metadata": {},
   "outputs": [
    {
     "data": {
      "text/html": [
       "<div>\n",
       "<style scoped>\n",
       "    .dataframe tbody tr th:only-of-type {\n",
       "        vertical-align: middle;\n",
       "    }\n",
       "\n",
       "    .dataframe tbody tr th {\n",
       "        vertical-align: top;\n",
       "    }\n",
       "\n",
       "    .dataframe thead th {\n",
       "        text-align: right;\n",
       "    }\n",
       "</style>\n",
       "<table border=\"1\" class=\"dataframe\">\n",
       "  <thead>\n",
       "    <tr style=\"text-align: right;\">\n",
       "      <th></th>\n",
       "      <th>id</th>\n",
       "      <th>url</th>\n",
       "      <th>clean_article</th>\n",
       "      <th>clean_summary</th>\n",
       "      <th>extractive_summary</th>\n",
       "    </tr>\n",
       "  </thead>\n",
       "  <tbody>\n",
       "    <tr>\n",
       "      <th>0</th>\n",
       "      <td>1</td>\n",
       "      <td>https://www.liputan6.com/news/read/1/batas-pen...</td>\n",
       "      <td>[['Liputan6', '.', 'com', ',', 'Jakarta', ':',...</td>\n",
       "      <td>[['Pemerintah', 'memberikan', 'tenggat', '14',...</td>\n",
       "      <td>[1, 8]</td>\n",
       "    </tr>\n",
       "    <tr>\n",
       "      <th>1</th>\n",
       "      <td>10</td>\n",
       "      <td>https://www.liputan6.com/news/read/10/belasan-...</td>\n",
       "      <td>[['Liputan6', '.', 'com', ',', 'Jakarta', ':',...</td>\n",
       "      <td>[['Satu', 'dari', '20', 'orang', 'Indonesia', ...</td>\n",
       "      <td>[2, 4]</td>\n",
       "    </tr>\n",
       "    <tr>\n",
       "      <th>2</th>\n",
       "      <td>1000</td>\n",
       "      <td>https://www.liputan6.com/news/read/1000/lagi--...</td>\n",
       "      <td>[['Liputan6', '.', 'com', ',', 'Banda', 'Aceh'...</td>\n",
       "      <td>[['Peledakan', 'bom', 'kembali', 'terjadi', 'd...</td>\n",
       "      <td>[2, 5]</td>\n",
       "    </tr>\n",
       "    <tr>\n",
       "      <th>3</th>\n",
       "      <td>10000</td>\n",
       "      <td>https://www.liputan6.com/news/read/10000/penge...</td>\n",
       "      <td>[['Liputan6', '.', 'com', ',', 'Surabaya', ':'...</td>\n",
       "      <td>[['Polres', 'Surabaya', 'Timur', 'menangkap', ...</td>\n",
       "      <td>[0, 5]</td>\n",
       "    </tr>\n",
       "    <tr>\n",
       "      <th>4</th>\n",
       "      <td>10001</td>\n",
       "      <td>https://www.liputan6.com/news/read/10001/menye...</td>\n",
       "      <td>[['Liputan6', '.', 'com', ',', 'Jakarta', ':',...</td>\n",
       "      <td>[['Lima', 'seniman', 'Yogyakarta', 'dan', 'Bal...</td>\n",
       "      <td>[0, 2]</td>\n",
       "    </tr>\n",
       "  </tbody>\n",
       "</table>\n",
       "</div>"
      ],
      "text/plain": [
       "      id                                                url  \\\n",
       "0      1  https://www.liputan6.com/news/read/1/batas-pen...   \n",
       "1     10  https://www.liputan6.com/news/read/10/belasan-...   \n",
       "2   1000  https://www.liputan6.com/news/read/1000/lagi--...   \n",
       "3  10000  https://www.liputan6.com/news/read/10000/penge...   \n",
       "4  10001  https://www.liputan6.com/news/read/10001/menye...   \n",
       "\n",
       "                                       clean_article  \\\n",
       "0  [['Liputan6', '.', 'com', ',', 'Jakarta', ':',...   \n",
       "1  [['Liputan6', '.', 'com', ',', 'Jakarta', ':',...   \n",
       "2  [['Liputan6', '.', 'com', ',', 'Banda', 'Aceh'...   \n",
       "3  [['Liputan6', '.', 'com', ',', 'Surabaya', ':'...   \n",
       "4  [['Liputan6', '.', 'com', ',', 'Jakarta', ':',...   \n",
       "\n",
       "                                       clean_summary extractive_summary  \n",
       "0  [['Pemerintah', 'memberikan', 'tenggat', '14',...             [1, 8]  \n",
       "1  [['Satu', 'dari', '20', 'orang', 'Indonesia', ...             [2, 4]  \n",
       "2  [['Peledakan', 'bom', 'kembali', 'terjadi', 'd...             [2, 5]  \n",
       "3  [['Polres', 'Surabaya', 'Timur', 'menangkap', ...             [0, 5]  \n",
       "4  [['Lima', 'seniman', 'Yogyakarta', 'dan', 'Bal...             [0, 2]  "
      ]
     },
     "execution_count": 5,
     "metadata": {},
     "output_type": "execute_result"
    }
   ],
   "source": [
    "df_dev = pd.read_csv('liputan6_data/canonical/dev_data.csv')\n",
    "df_dev.head()"
   ]
  },
  {
   "cell_type": "markdown",
   "id": "e954d4b1",
   "metadata": {},
   "source": [
    "Extract dan Convert file JSON to CSV (test)"
   ]
  },
  {
   "cell_type": "code",
   "execution_count": null,
   "id": "bb320cad",
   "metadata": {},
   "outputs": [
    {
     "name": "stdout",
     "output_type": "stream",
     "text": [
      "Data disimpan ke liputan6_data/canonical/test_data.csv\n"
     ]
    }
   ],
   "source": [
    "def read_file_json_test(directory_test, output_test_csv):\n",
    "    data_list_test = []\n",
    "    for filename in os.listdir(directory_test):\n",
    "        if filename.endswith('.json'):\n",
    "            filepath_test = os.path.join(directory_test, filename)\n",
    "            with open(filepath_test, 'r', encoding='utf-8') as f:\n",
    "                data_test = json.load(f) # baca .json data\n",
    "                data_list_test.append(data_test)\n",
    "    df_test = pd.DataFrame(data_list_test)\n",
    "    df_test.to_csv(output_test_csv, index=False)\n",
    "    print(f'Data disimpan ke {output_test_csv}')\n",
    "\n",
    "directory_test = \"../data/liputan6_data/canonical/test\"\n",
    "output_test_csv = \"liputan6_data/canonical/test_data.csv\"\n",
    "read_file_json_test(directory_test, output_test_csv)"
   ]
  },
  {
   "cell_type": "code",
   "execution_count": 7,
   "id": "0a24cac5",
   "metadata": {},
   "outputs": [
    {
     "data": {
      "text/html": [
       "<div>\n",
       "<style scoped>\n",
       "    .dataframe tbody tr th:only-of-type {\n",
       "        vertical-align: middle;\n",
       "    }\n",
       "\n",
       "    .dataframe tbody tr th {\n",
       "        vertical-align: top;\n",
       "    }\n",
       "\n",
       "    .dataframe thead th {\n",
       "        text-align: right;\n",
       "    }\n",
       "</style>\n",
       "<table border=\"1\" class=\"dataframe\">\n",
       "  <thead>\n",
       "    <tr style=\"text-align: right;\">\n",
       "      <th></th>\n",
       "      <th>id</th>\n",
       "      <th>url</th>\n",
       "      <th>clean_article</th>\n",
       "      <th>clean_summary</th>\n",
       "      <th>extractive_summary</th>\n",
       "    </tr>\n",
       "  </thead>\n",
       "  <tbody>\n",
       "    <tr>\n",
       "      <th>0</th>\n",
       "      <td>100000</td>\n",
       "      <td>https://www.liputan6.com/news/read/100000/yudh...</td>\n",
       "      <td>[['Liputan6', '.', 'com', ',', 'Jakarta', ':',...</td>\n",
       "      <td>[['Menurut', 'Presiden', 'Susilo', 'Bambang', ...</td>\n",
       "      <td>[0, 1]</td>\n",
       "    </tr>\n",
       "    <tr>\n",
       "      <th>1</th>\n",
       "      <td>100002</td>\n",
       "      <td>https://www.liputan6.com/news/read/100002/jepa...</td>\n",
       "      <td>[['Liputan6', '.', 'com', ',', 'Jakarta', ':',...</td>\n",
       "      <td>[['Pada', 'masa', 'silam', 'Jepang', 'terlalu'...</td>\n",
       "      <td>[2, 3]</td>\n",
       "    </tr>\n",
       "    <tr>\n",
       "      <th>2</th>\n",
       "      <td>100003</td>\n",
       "      <td>https://www.liputan6.com/news/read/100003/pulu...</td>\n",
       "      <td>[['Liputan6', '.', 'com', ',', 'Kutai', ':', '...</td>\n",
       "      <td>[['Puluhan', 'hektare', 'areal', 'persawahan',...</td>\n",
       "      <td>[1, 5]</td>\n",
       "    </tr>\n",
       "    <tr>\n",
       "      <th>3</th>\n",
       "      <td>100004</td>\n",
       "      <td>https://www.liputan6.com/news/read/100004/pres...</td>\n",
       "      <td>[['Liputan6', '.', 'com', ',', 'Jakarta', ':',...</td>\n",
       "      <td>[['Sekjen', 'PBB', 'Kofi', 'Annan', 'memuji', ...</td>\n",
       "      <td>[2, 5]</td>\n",
       "    </tr>\n",
       "    <tr>\n",
       "      <th>4</th>\n",
       "      <td>100005</td>\n",
       "      <td>https://www.liputan6.com/news/read/100005/warg...</td>\n",
       "      <td>[['Liputan6', '.', 'com', ',', 'Solok', ':', '...</td>\n",
       "      <td>[['Untuk', 'mempercepat', 'pelaksanaan', 'bela...</td>\n",
       "      <td>[0, 2]</td>\n",
       "    </tr>\n",
       "  </tbody>\n",
       "</table>\n",
       "</div>"
      ],
      "text/plain": [
       "       id                                                url  \\\n",
       "0  100000  https://www.liputan6.com/news/read/100000/yudh...   \n",
       "1  100002  https://www.liputan6.com/news/read/100002/jepa...   \n",
       "2  100003  https://www.liputan6.com/news/read/100003/pulu...   \n",
       "3  100004  https://www.liputan6.com/news/read/100004/pres...   \n",
       "4  100005  https://www.liputan6.com/news/read/100005/warg...   \n",
       "\n",
       "                                       clean_article  \\\n",
       "0  [['Liputan6', '.', 'com', ',', 'Jakarta', ':',...   \n",
       "1  [['Liputan6', '.', 'com', ',', 'Jakarta', ':',...   \n",
       "2  [['Liputan6', '.', 'com', ',', 'Kutai', ':', '...   \n",
       "3  [['Liputan6', '.', 'com', ',', 'Jakarta', ':',...   \n",
       "4  [['Liputan6', '.', 'com', ',', 'Solok', ':', '...   \n",
       "\n",
       "                                       clean_summary extractive_summary  \n",
       "0  [['Menurut', 'Presiden', 'Susilo', 'Bambang', ...             [0, 1]  \n",
       "1  [['Pada', 'masa', 'silam', 'Jepang', 'terlalu'...             [2, 3]  \n",
       "2  [['Puluhan', 'hektare', 'areal', 'persawahan',...             [1, 5]  \n",
       "3  [['Sekjen', 'PBB', 'Kofi', 'Annan', 'memuji', ...             [2, 5]  \n",
       "4  [['Untuk', 'mempercepat', 'pelaksanaan', 'bela...             [0, 2]  "
      ]
     },
     "execution_count": 7,
     "metadata": {},
     "output_type": "execute_result"
    }
   ],
   "source": [
    "df_train = pd.read_csv('liputan6_data/canonical/train_data.csv')\n",
    "df_train.head()"
   ]
  }
 ],
 "metadata": {
  "kernelspec": {
   "display_name": "base",
   "language": "python",
   "name": "python3"
  },
  "language_info": {
   "codemirror_mode": {
    "name": "ipython",
    "version": 3
   },
   "file_extension": ".py",
   "mimetype": "text/x-python",
   "name": "python",
   "nbconvert_exporter": "python",
   "pygments_lexer": "ipython3",
   "version": "3.12.7"
  }
 },
 "nbformat": 4,
 "nbformat_minor": 5
}
