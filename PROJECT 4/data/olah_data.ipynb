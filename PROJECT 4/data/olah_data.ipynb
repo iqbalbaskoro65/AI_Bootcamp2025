{
 "cells": [
  {
   "cell_type": "code",
   "execution_count": 1,
   "id": "a982e474",
   "metadata": {},
   "outputs": [],
   "source": [
    "import pandas as pd"
   ]
  },
  {
   "cell_type": "code",
   "execution_count": 2,
   "id": "2e9a0976",
   "metadata": {},
   "outputs": [],
   "source": [
    "df = pd.read_csv(\"../dataset_baru.csv\")\n"
   ]
  },
  {
   "cell_type": "code",
   "execution_count": null,
   "id": "5655b9da",
   "metadata": {},
   "outputs": [
    {
     "data": {
      "text/html": [
       "<div>\n",
       "<style scoped>\n",
       "    .dataframe tbody tr th:only-of-type {\n",
       "        vertical-align: middle;\n",
       "    }\n",
       "\n",
       "    .dataframe tbody tr th {\n",
       "        vertical-align: top;\n",
       "    }\n",
       "\n",
       "    .dataframe thead th {\n",
       "        text-align: right;\n",
       "    }\n",
       "</style>\n",
       "<table border=\"1\" class=\"dataframe\">\n",
       "  <thead>\n",
       "    <tr style=\"text-align: right;\">\n",
       "      <th></th>\n",
       "      <th>Title Cleaned</th>\n",
       "      <th>Ingredients Cleaned</th>\n",
       "    </tr>\n",
       "  </thead>\n",
       "  <tbody>\n",
       "    <tr>\n",
       "      <th>0</th>\n",
       "      <td>ayam woku manado</td>\n",
       "      <td>ayam kampung potong , jeruk nipis , garam , ku...</td>\n",
       "    </tr>\n",
       "    <tr>\n",
       "      <th>1</th>\n",
       "      <td>ayam goreng tulang lunak</td>\n",
       "      <td>ayam dipotong , serai , daun jeruk , bawang pu...</td>\n",
       "    </tr>\n",
       "    <tr>\n",
       "      <th>2</th>\n",
       "      <td>ayam cabai kawin</td>\n",
       "      <td>ayam , cabai hijau , cabai merah rawit , bawan...</td>\n",
       "    </tr>\n",
       "    <tr>\n",
       "      <th>3</th>\n",
       "      <td>ayam geprek</td>\n",
       "      <td>daging ayam fillet , gula garam , tepung ayam ...</td>\n",
       "    </tr>\n",
       "    <tr>\n",
       "      <th>4</th>\n",
       "      <td>minyak ayam</td>\n",
       "      <td>kulit ayam &amp; lemaknya , bawang putih , cincang...</td>\n",
       "    </tr>\n",
       "  </tbody>\n",
       "</table>\n",
       "</div>"
      ],
      "text/plain": [
       "              Title Cleaned                                Ingredients Cleaned\n",
       "0          ayam woku manado  ayam kampung potong , jeruk nipis , garam , ku...\n",
       "1  ayam goreng tulang lunak  ayam dipotong , serai , daun jeruk , bawang pu...\n",
       "2          ayam cabai kawin  ayam , cabai hijau , cabai merah rawit , bawan...\n",
       "3               ayam geprek  daging ayam fillet , gula garam , tepung ayam ...\n",
       "4               minyak ayam  kulit ayam & lemaknya , bawang putih , cincang..."
      ]
     },
     "execution_count": 3,
     "metadata": {},
     "output_type": "execute_result"
    }
   ],
   "source": [
    "df.head()"
   ]
  },
  {
   "cell_type": "code",
   "execution_count": 4,
   "id": "cc1a10b3",
   "metadata": {},
   "outputs": [
    {
     "name": "stdout",
     "output_type": "stream",
     "text": [
      "<class 'pandas.core.frame.DataFrame'>\n",
      "RangeIndex: 14925 entries, 0 to 14924\n",
      "Data columns (total 2 columns):\n",
      " #   Column               Non-Null Count  Dtype \n",
      "---  ------               --------------  ----- \n",
      " 0   Title Cleaned        14925 non-null  object\n",
      " 1   Ingredients Cleaned  14925 non-null  object\n",
      "dtypes: object(2)\n",
      "memory usage: 233.3+ KB\n"
     ]
    }
   ],
   "source": [
    "df.info()\n"
   ]
  }
 ],
 "metadata": {
  "kernelspec": {
   "display_name": ".venv",
   "language": "python",
   "name": "python3"
  },
  "language_info": {
   "codemirror_mode": {
    "name": "ipython",
    "version": 3
   },
   "file_extension": ".py",
   "mimetype": "text/x-python",
   "name": "python",
   "nbconvert_exporter": "python",
   "pygments_lexer": "ipython3",
   "version": "3.13.7"
  }
 },
 "nbformat": 4,
 "nbformat_minor": 5
}
